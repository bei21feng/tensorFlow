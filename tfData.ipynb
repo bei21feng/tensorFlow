{
 "cells": [
  {
   "cell_type": "code",
   "execution_count": 3,
   "metadata": {
    "collapsed": true,
    "pycharm": {
     "name": "#%%\n"
    }
   },
   "outputs": [
    {
     "name": "stdout",
     "output_type": "stream",
     "text": [
      "x = 0, y = 0\n",
      "x = 1, y = 2\n",
      "x = 2, y = 4\n",
      "x = 3, y = 6\n",
      "x = 4, y = 8\n",
      "x = 0, y = 0\n",
      "x = 1, y = 2\n",
      "x = 2, y = 4\n"
     ]
    },
    {
     "data": {
      "text/plain": "<MapDataset shapes: (), types: tf.int64>"
     },
     "execution_count": 3,
     "metadata": {},
     "output_type": "execute_result"
    }
   ],
   "source": [
    "import tensorflow as tf\n",
    "x_data = tf.data.Dataset.from_tensor_slices(tf.constant([0, 1, 2, 3, 4]))\n",
    "y_data = tf.data.Dataset.from_tensor_slices(tf.constant([0, 2, 4, 6, 8]))\n",
    "\n",
    "# zip 将多个Dataset打包成一个\n",
    "for data1, data2 in zip(x_data, y_data):\n",
    "    print('x = {}, y = {}'.format(data1, data2))\n",
    "\n",
    "# take 读取指定数量\n",
    "for data1, data2 in zip(x_data.take(3), y_data.take(3)):\n",
    "    print('x = {}, y = {}'.format(data1, data2))\n",
    "\n",
    "# map 转换数据\n",
    "tf.data.Dataset.range(10).map(lambda x:x*2)"
   ]
  },
  {
   "cell_type": "markdown",
   "source": [
    "### 命名"
   ],
   "metadata": {
    "collapsed": false
   }
  },
  {
   "cell_type": "code",
   "execution_count": 12,
   "outputs": [
    {
     "name": "stdout",
     "output_type": "stream",
     "text": [
      "x : 0, y : 0\n",
      "x : 1, y : 3\n",
      "x : 2, y : 6\n",
      "x : 3, y : 9\n",
      "x : 4, y : 12\n",
      "--------------------\n",
      "x : [0 1], y : [0 3]\n",
      "x : [2 3], y : [6 9]\n",
      "x : [4 5], y : [12 15]\n",
      "x : [6 7], y : [18 21]\n",
      "x : [8 9], y : [24 27]\n",
      "--------------------\n",
      "x : [4 5], y : [12 15]\n",
      "x : [0 1], y : [0 3]\n",
      "x : [6 7], y : [18 21]\n",
      "x : [8 9], y : [24 27]\n",
      "x : [2 3], y : [6 9]\n",
      "--------------------\n",
      "x : [6 7], y : [18 21]\n",
      "x : [4 5], y : [12 15]\n",
      "x : [0 1], y : [0 3]\n",
      "x : [8 9], y : [24 27]\n",
      "x : [2 3], y : [6 9]\n",
      "x : [2 3], y : [6 9]\n",
      "x : [8 9], y : [24 27]\n",
      "x : [0 1], y : [0 3]\n",
      "x : [6 7], y : [18 21]\n",
      "x : [4 5], y : [12 15]\n"
     ]
    }
   ],
   "source": [
    "# 以字典的方式给elements的组件命名\n",
    "dataset = tf.data.Dataset.zip(\n",
    "    {\n",
    "        'x' : tf.data.Dataset.range(10),\n",
    "        'y' : tf.data.Dataset.range(10).map(lambda x:x*3)\n",
    "    }\n",
    ")\n",
    "\n",
    "for data in dataset.take(5):\n",
    "    print('x : {}, y : {}'.format(data['x'], data['y']))\n",
    "\n",
    "print('-'*20)\n",
    "\n",
    "# batch 设置每一批读取的数据量\n",
    "dataset = tf.data.Dataset.zip(\n",
    "    {\n",
    "        'x' : tf.data.Dataset.range(10),\n",
    "        'y' : tf.data.Dataset.range(10).map(lambda x:x*3)\n",
    "    }\n",
    ").batch(2)\n",
    "\n",
    "for data in dataset.take(5):\n",
    "    print('x : {}, y : {}'.format(data['x'], data['y']))\n",
    "\n",
    "print('-'*20)\n",
    "\n",
    "# shuffle 数据加载到缓冲区，再随机选取出来\n",
    "# 取出数据后，新的数据替补，buffer_size为缓冲区大小，最好大于等于整个Dataset数据个数\n",
    "dataset = dataset.shuffle(10)\n",
    "for data in dataset.take(5):\n",
    "    print('x : {}, y : {}'.format(data['x'], data['y']))\n",
    "\n",
    "print('-'*20)\n",
    "\n",
    "# repeat 当Dataset的数据读取完后，会读取不到数据\n",
    "# 设置repeat(n)可以重复读取Dataset n次\n",
    "dataset = dataset.repeat(2)\n",
    "for data in dataset.take(10):\n",
    "    print('x : {}, y : {}'.format(data['x'], data['y']))"
   ],
   "metadata": {
    "collapsed": false,
    "pycharm": {
     "name": "#%%\n"
    }
   }
  }
 ],
 "metadata": {
  "kernelspec": {
   "display_name": "Python 3",
   "language": "python",
   "name": "python3"
  },
  "language_info": {
   "codemirror_mode": {
    "name": "ipython",
    "version": 2
   },
   "file_extension": ".py",
   "mimetype": "text/x-python",
   "name": "python",
   "nbconvert_exporter": "python",
   "pygments_lexer": "ipython2",
   "version": "2.7.6"
  }
 },
 "nbformat": 4,
 "nbformat_minor": 0
}